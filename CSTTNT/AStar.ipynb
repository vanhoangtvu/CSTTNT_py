{
  "nbformat": 4,
  "nbformat_minor": 0,
  "metadata": {
    "colab": {
      "provenance": []
    },
    "kernelspec": {
      "name": "python3",
      "display_name": "Python 3"
    },
    "language_info": {
      "name": "python"
    }
  },
  "cells": [
    {
      "cell_type": "code",
      "execution_count": 19,
      "metadata": {
        "id": "W-BaV4DWZB2q"
      },
      "outputs": [],
      "source": [
        "import heapq\n",
        "\n",
        "# ====  DỮ LIỆU BẢN ĐỒ (8x8) ====\n",
        "ban_do = [\n",
        "    [0, 0, 0, 0, 0, 0, 0, 0],\n",
        "    [0, 0, 0, 0, 0, 1, 0, 0],\n",
        "    [0, 0, 0, 0, 1, 1, 1, 0],\n",
        "    [1, 1, 1, 1, 0, 1, 1, 0],\n",
        "    [0, 0, 1, 1, 1, 1, 1, 0],\n",
        "    [0, 0, 0, 1, 1, 0, 1, 0],\n",
        "    [0, 0, 0, 0, 0, 0, 1, 0],\n",
        "    [0, 0, 0, 0, 0, 0, 0, 0]\n",
        "]\n",
        "\n",
        "# ==== 2. TỌA ĐỘ ====\n",
        "diem_bat_dau = (6, 4)\n",
        "diem_dich = (1, 3)"
      ]
    },
    {
      "cell_type": "code",
      "source": [
        "# ====  HÀM HEURISTIC (Manhattan) ====\n",
        "def heuristic(a, b):\n",
        "    return abs(a[0] - b[0]) + abs(a[1] - b[1])\n",
        "\n",
        "# ====  LẤY HÀNG XÓM ====\n",
        "def get_neighbors(pos, grid):\n",
        "    directions = [(-1,0), (1,0), (0,-1), (0,1)]\n",
        "    neighbors = []\n",
        "    for d in directions:\n",
        "        ni, nj = pos[0] + d[0], pos[1] + d[1]\n",
        "        if 0 <= ni < len(grid) and 0 <= nj < len(grid[0]) and grid[ni][nj] == 0:\n",
        "            neighbors.append((ni, nj))\n",
        "    return neighbors"
      ],
      "metadata": {
        "id": "s6A8-pqSZHDZ"
      },
      "execution_count": 20,
      "outputs": []
    },
    {
      "cell_type": "code",
      "source": [
        "# ====  TRUY VẾT ĐƯỜNG ĐI ====\n",
        "def reconstruct_path(came_from, current):\n",
        "    path = [current]\n",
        "    while current in came_from:\n",
        "        current = came_from[current]\n",
        "        path.append(current)\n",
        "    return path[::-1]"
      ],
      "metadata": {
        "id": "s5nmiYEsZLkY"
      },
      "execution_count": 13,
      "outputs": []
    },
    {
      "cell_type": "code",
      "source": [
        "# ==== THUẬT TOÁN A* ====\n",
        "def astar(start, goal, grid):\n",
        "    open_set = []\n",
        "    heapq.heappush(open_set, (heuristic(start, goal), 0, start))\n",
        "    came_from = {}\n",
        "    g_score = {start: 0}\n",
        "\n",
        "    while open_set:\n",
        "        _, g, current = heapq.heappop(open_set)\n",
        "        print(f\"🟢 Đang xét: {current}, g={g}\")\n",
        "\n",
        "        if current == goal:\n",
        "            print(\"✅ Đã đến đích!\")\n",
        "            return reconstruct_path(came_from, current)\n",
        "\n",
        "        for neighbor in get_neighbors(current, grid):\n",
        "            tentative_g = g + 1\n",
        "            if neighbor not in g_score or tentative_g < g_score[neighbor]:\n",
        "                g_score[neighbor] = tentative_g\n",
        "                f_score = tentative_g + heuristic(neighbor, goal)\n",
        "                heapq.heappush(open_set, (f_score, tentative_g, neighbor))\n",
        "                came_from[neighbor] = current\n",
        "                print(f\"  + Thêm {neighbor} vào OPEN với f={f_score}\")\n",
        "\n",
        "    print(\"❌ Không tìm thấy đường đi.\")\n",
        "    return None\n"
      ],
      "metadata": {
        "id": "7A5iJvAIZQQg"
      },
      "execution_count": 23,
      "outputs": []
    },
    {
      "cell_type": "code",
      "source": [
        "\n",
        "duong_di = astar(diem_bat_dau, diem_dich, ban_do)\n",
        "\n",
        "# IN KẾT QUẢ\n",
        "if duong_di:\n",
        "    print(\"\\n🔁 Đường đi ngắn nhất:\")\n",
        "    for p in duong_di:\n",
        "        print(p, end=\" -> \")\n",
        "    print(\"Đến nơi.\")\n",
        "    print(f\"✅ Tổng số bước: {len(duong_di) - 1}\")\n",
        "else:\n",
        "    print(\"❌ Không tìm được đường đi.\")"
      ],
      "metadata": {
        "colab": {
          "base_uri": "https://localhost:8080/"
        },
        "id": "L8KhkuzwZSOI",
        "outputId": "a80667aa-da87-422b-fcfa-70a37ff5fe3f"
      },
      "execution_count": 24,
      "outputs": [
        {
          "output_type": "stream",
          "name": "stdout",
          "text": [
            "🟢 Đang xét: (6, 4), g=0\n",
            "  + Thêm (7, 4) vào OPEN với f=8\n",
            "  + Thêm (6, 3) vào OPEN với f=6\n",
            "  + Thêm (6, 5) vào OPEN với f=8\n",
            "🟢 Đang xét: (6, 3), g=1\n",
            "  + Thêm (7, 3) vào OPEN với f=8\n",
            "  + Thêm (6, 2) vào OPEN với f=8\n",
            "🟢 Đang xét: (6, 5), g=1\n",
            "  + Thêm (5, 5) vào OPEN với f=8\n",
            "  + Thêm (7, 5) vào OPEN với f=10\n",
            "🟢 Đang xét: (7, 4), g=1\n",
            "🟢 Đang xét: (5, 5), g=2\n",
            "🟢 Đang xét: (6, 2), g=2\n",
            "  + Thêm (5, 2) vào OPEN với f=8\n",
            "  + Thêm (7, 2) vào OPEN với f=10\n",
            "  + Thêm (6, 1) vào OPEN với f=10\n",
            "🟢 Đang xét: (7, 3), g=2\n",
            "🟢 Đang xét: (5, 2), g=3\n",
            "  + Thêm (5, 1) vào OPEN với f=10\n",
            "🟢 Đang xét: (7, 5), g=2\n",
            "  + Thêm (7, 6) vào OPEN với f=12\n",
            "🟢 Đang xét: (6, 1), g=3\n",
            "  + Thêm (7, 1) vào OPEN với f=12\n",
            "  + Thêm (6, 0) vào OPEN với f=12\n",
            "🟢 Đang xét: (7, 2), g=3\n",
            "🟢 Đang xét: (5, 1), g=4\n",
            "  + Thêm (4, 1) vào OPEN với f=10\n",
            "  + Thêm (5, 0) vào OPEN với f=12\n",
            "🟢 Đang xét: (4, 1), g=5\n",
            "  + Thêm (4, 0) vào OPEN với f=12\n",
            "🟢 Đang xét: (7, 6), g=3\n",
            "  + Thêm (7, 7) vào OPEN với f=14\n",
            "🟢 Đang xét: (6, 0), g=4\n",
            "  + Thêm (7, 0) vào OPEN với f=14\n",
            "🟢 Đang xét: (7, 1), g=4\n",
            "🟢 Đang xét: (5, 0), g=5\n",
            "🟢 Đang xét: (4, 0), g=6\n",
            "🟢 Đang xét: (7, 7), g=4\n",
            "  + Thêm (6, 7) vào OPEN với f=14\n",
            "🟢 Đang xét: (6, 7), g=5\n",
            "  + Thêm (5, 7) vào OPEN với f=14\n",
            "🟢 Đang xét: (7, 0), g=5\n",
            "🟢 Đang xét: (5, 7), g=6\n",
            "  + Thêm (4, 7) vào OPEN với f=14\n",
            "🟢 Đang xét: (4, 7), g=7\n",
            "  + Thêm (3, 7) vào OPEN với f=14\n",
            "🟢 Đang xét: (3, 7), g=8\n",
            "  + Thêm (2, 7) vào OPEN với f=14\n",
            "🟢 Đang xét: (2, 7), g=9\n",
            "  + Thêm (1, 7) vào OPEN với f=14\n",
            "🟢 Đang xét: (1, 7), g=10\n",
            "  + Thêm (0, 7) vào OPEN với f=16\n",
            "  + Thêm (1, 6) vào OPEN với f=14\n",
            "🟢 Đang xét: (1, 6), g=11\n",
            "  + Thêm (0, 6) vào OPEN với f=16\n",
            "🟢 Đang xét: (0, 7), g=11\n",
            "🟢 Đang xét: (0, 6), g=12\n",
            "  + Thêm (0, 5) vào OPEN với f=16\n",
            "🟢 Đang xét: (0, 5), g=13\n",
            "  + Thêm (0, 4) vào OPEN với f=16\n",
            "🟢 Đang xét: (0, 4), g=14\n",
            "  + Thêm (1, 4) vào OPEN với f=16\n",
            "  + Thêm (0, 3) vào OPEN với f=16\n",
            "🟢 Đang xét: (0, 3), g=15\n",
            "  + Thêm (1, 3) vào OPEN với f=16\n",
            "  + Thêm (0, 2) vào OPEN với f=18\n",
            "🟢 Đang xét: (1, 4), g=15\n",
            "🟢 Đang xét: (1, 3), g=16\n",
            "✅ Đã đến đích!\n",
            "\n",
            "🔁 Đường đi ngắn nhất:\n",
            "(6, 4) -> (6, 5) -> (7, 5) -> (7, 6) -> (7, 7) -> (6, 7) -> (5, 7) -> (4, 7) -> (3, 7) -> (2, 7) -> (1, 7) -> (1, 6) -> (0, 6) -> (0, 5) -> (0, 4) -> (0, 3) -> (1, 3) -> Đến nơi.\n",
            "✅ Tổng số bước: 16\n"
          ]
        }
      ]
    }
  ]
}